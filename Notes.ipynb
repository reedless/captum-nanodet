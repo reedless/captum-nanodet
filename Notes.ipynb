{
 "cells": [
  {
   "cell_type": "markdown",
   "id": "c6d4ff83",
   "metadata": {},
   "source": [
    "Predictor.inference -> nanodet.model.arch.nanodet_plus.NanoDetPlus.inference(meta)\n",
    "                    -> OneStageDetector.inference(meta): preds = self(meta[\"img\"])\n",
    "                                                         results = self.head.post_process(preds, meta)\n",
    "                    -> nanodet.model.head.NanoDetPlusHead.post_process(preds, meta): \n",
    "                            result_list = self.get_bboxes(cls_scores, bbox_preds, meta) : img_metas[\"img\"].shape[2:]\n",
    "                            det_results = {}\n",
    "                            warp_matrixes = (\n",
    "                                meta[\"warp_matrix\"]\n",
    "                                if isinstance(meta[\"warp_matrix\"], list)\n",
    "                                else meta[\"warp_matrix\"]\n",
    "                            )\n",
    "                            img_heights = (\n",
    "                                meta[\"img_info\"][\"height\"].cpu().numpy()\n",
    "                                if isinstance(meta[\"img_info\"][\"height\"], torch.Tensor)\n",
    "                                else meta[\"img_info\"][\"height\"]\n",
    "                            )\n",
    "                            img_widths = (\n",
    "                                meta[\"img_info\"][\"width\"].cpu().numpy()\n",
    "                                if isinstance(meta[\"img_info\"][\"width\"], torch.Tensor)\n",
    "                                else meta[\"img_info\"][\"width\"]\n",
    "                            )\n",
    "                            img_ids = (\n",
    "                                meta[\"img_info\"][\"id\"].cpu().numpy()\n",
    "                                if isinstance(meta[\"img_info\"][\"id\"], torch.Tensor)\n",
    "                                else meta[\"img_info\"][\"id\"]\n",
    "                            )"
   ]
  },
  {
   "cell_type": "code",
   "execution_count": null,
   "id": "6bd42d03",
   "metadata": {},
   "outputs": [],
   "source": []
  },
  {
   "cell_type": "code",
   "execution_count": null,
   "id": "9d271e8c",
   "metadata": {},
   "outputs": [],
   "source": []
  },
  {
   "cell_type": "code",
   "execution_count": null,
   "id": "4a4c67d5",
   "metadata": {},
   "outputs": [],
   "source": []
  },
  {
   "cell_type": "code",
   "execution_count": null,
   "id": "bfa7883a",
   "metadata": {},
   "outputs": [],
   "source": []
  }
 ],
 "metadata": {
  "kernelspec": {
   "display_name": "captum-vas",
   "language": "python",
   "name": "captum-vas"
  },
  "language_info": {
   "codemirror_mode": {
    "name": "ipython",
    "version": 3
   },
   "file_extension": ".py",
   "mimetype": "text/x-python",
   "name": "python",
   "nbconvert_exporter": "python",
   "pygments_lexer": "ipython3",
   "version": "3.8.10"
  }
 },
 "nbformat": 4,
 "nbformat_minor": 5
}

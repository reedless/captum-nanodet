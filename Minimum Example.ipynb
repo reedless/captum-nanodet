{
 "cells": [
  {
   "cell_type": "code",
   "execution_count": 1,
   "id": "967d938d",
   "metadata": {},
   "outputs": [],
   "source": [
    "import os\n",
    "import cv2\n",
    "import torch\n",
    "from nanodet.util import cfg, load_config, Logger\n",
    "\n",
    "os.environ[\"CUDA_DEVICE_ORDER\"]=\"PCI_BUS_ID\"\n",
    "os.environ[\"CUDA_VISIBLE_DEVICES\"]=\"0\"\n",
    "\n",
    "device = torch.device('cuda')\n",
    "\n",
    "torch.backends.cudnn.enabled = True\n",
    "torch.backends.cudnn.benchmark = True"
   ]
  },
  {
   "cell_type": "code",
   "execution_count": 37,
   "id": "052742c2",
   "metadata": {},
   "outputs": [],
   "source": [
    "config_path = 'demo/nanodet-plus-m_416.yml'\n",
    "model_path = 'demo/nanodet-plus-m_416_checkpoint.ckpt'\n",
    "image_path = 'demo/000252.jpg'\n",
    "\n",
    "load_config(cfg, config_path)\n",
    "logger = Logger(-1, use_tensorboard=False)"
   ]
  },
  {
   "cell_type": "code",
   "execution_count": 86,
   "id": "ad2c7028",
   "metadata": {
    "scrolled": true
   },
   "outputs": [
    {
     "name": "stdout",
     "output_type": "stream",
     "text": [
      "model size is  1.0x\n",
      "init weights...\n",
      "=> loading pretrained model https://download.pytorch.org/models/shufflenetv2_x1-5666bf0f80.pth\n",
      "Finish initialize NanoDet-Plus Head.\n"
     ]
    }
   ],
   "source": [
    "from nanodet.model.arch import build_model\n",
    "from nanodet.util import Logger, cfg, load_config, load_model_weight\n",
    "from nanodet.data.transform import Pipeline\n",
    "from nanodet.data.collate import naive_collate\n",
    "from nanodet.data.batch_process import stack_batch_img\n",
    "import numpy as np\n",
    "\n",
    "class WrapperModel(torch.nn.Module):\n",
    "    def __init__(self, cfg, model_path, logger, device=\"cuda:0\"):\n",
    "        super().__init__()\n",
    "\n",
    "        self.cfg = cfg\n",
    "        self.device = device\n",
    "        \n",
    "        self.num_classes = cfg['model']['arch']['head']['num_classes']\n",
    "        self.reg_max = cfg['model']['arch']['head']['reg_max']\n",
    "        model = build_model(cfg.model)\n",
    "        ckpt = torch.load(model_path, map_location=lambda storage, loc: storage)\n",
    "        load_model_weight(model, ckpt, logger)\n",
    "        self.model = model.to(device).eval()\n",
    "\n",
    "    def forward(self, tensor_img):\n",
    "        if len(tensor_img.shape) == 4:\n",
    "            list_max_cls_scores = []\n",
    "            for i in range(tensor_img.shape[0]):\n",
    "                numpy_img = tensor_img[i].permute(1, 2, 0).detach().cpu().numpy().astype(np.uint8)\n",
    "\n",
    "                from nanodet.data.transform.warp import ShapeTransform\n",
    "                from nanodet.data.transform.color import color_aug_and_norm\n",
    "                import functools\n",
    "\n",
    "                meta = ShapeTransform(cfg.data.val.keep_ratio, **cfg.data.val.pipeline)({\"img\": numpy_img}, cfg.data.val.input_size)\n",
    "                meta = functools.partial(color_aug_and_norm, kwargs=cfg.data.val.pipeline)(meta)\n",
    "\n",
    "                processed_tensor_img = torch.from_numpy(meta[\"img\"].transpose(2, 0, 1)).to(device).type(torch.cuda.FloatTensor).unsqueeze(0)\n",
    "\n",
    "                preds = self.model(processed_tensor_img)\n",
    "\n",
    "                cls_scores = preds.split(\n",
    "                    [self.num_classes, 4 * (self.reg_max + 1)], dim=-1\n",
    "                )[0]\n",
    "\n",
    "                max_cls_scores = torch.max(cls_scores.sigmoid()[0], dim=0)[0]\n",
    "\n",
    "                list_max_cls_scores.append(max_cls_scores)\n",
    "            return torch.stack(list_max_cls_scores)\n",
    "    \n",
    "wrapper = WrapperModel(cfg, model_path, logger, device=device)"
   ]
  },
  {
   "cell_type": "code",
   "execution_count": 87,
   "id": "305c4cd1",
   "metadata": {},
   "outputs": [
    {
     "name": "stdout",
     "output_type": "stream",
     "text": [
      "torch.Size([1, 3, 333, 500])\n"
     ]
    }
   ],
   "source": [
    "img = cv2.imread(image_path)\n",
    "\n",
    "input_   = torch.from_numpy(img).permute(2,0,1).to(device).type(torch.cuda.FloatTensor).unsqueeze(0)\n",
    "\n",
    "print(input_.shape)"
   ]
  },
  {
   "cell_type": "code",
   "execution_count": 90,
   "id": "78dff623",
   "metadata": {},
   "outputs": [
    {
     "data": {
      "text/plain": [
       "tensor([ True, False,  True, False, False,  True, False,  True, False, False,\n",
       "        False, False, False, False, False, False, False, False, False, False,\n",
       "        False, False, False, False, False, False, False, False, False, False,\n",
       "        False, False, False, False, False, False, False, False, False, False,\n",
       "        False, False, False, False, False, False, False, False, False, False,\n",
       "        False, False, False, False, False, False, False, False, False, False,\n",
       "        False, False, False, False, False, False, False, False, False, False,\n",
       "        False, False, False, False, False, False, False, False, False, False],\n",
       "       device='cuda:0')"
      ]
     },
     "execution_count": 90,
     "metadata": {},
     "output_type": "execute_result"
    }
   ],
   "source": [
    "model(input_)>0.35"
   ]
  },
  {
   "cell_type": "code",
   "execution_count": 91,
   "id": "0dc80ad6",
   "metadata": {},
   "outputs": [
    {
     "data": {
      "text/plain": [
       "[0, 2, 5, 7]"
      ]
     },
     "execution_count": 91,
     "metadata": {},
     "output_type": "execute_result"
    }
   ],
   "source": [
    "[i for i, x in enumerate(model(input_)>0.35) if x]"
   ]
  },
  {
   "cell_type": "code",
   "execution_count": 88,
   "id": "a3d87669",
   "metadata": {
    "scrolled": false
   },
   "outputs": [
    {
     "ename": "RuntimeError",
     "evalue": "CUDA out of memory. Tried to allocate 96.00 MiB (GPU 0; 4.00 GiB total capacity; 2.62 GiB already allocated; 0 bytes free; 2.83 GiB reserved in total by PyTorch)",
     "output_type": "error",
     "traceback": [
      "\u001b[0;31m---------------------------------------------------------------------------\u001b[0m",
      "\u001b[0;31mRuntimeError\u001b[0m                              Traceback (most recent call last)",
      "Input \u001b[0;32mIn [88]\u001b[0m, in \u001b[0;36m<module>\u001b[0;34m\u001b[0m\n\u001b[1;32m     10\u001b[0m \u001b[38;5;66;03m# Integrated Gradients\u001b[39;00m\n\u001b[1;32m     11\u001b[0m ig \u001b[38;5;241m=\u001b[39m IntegratedGradients(wrapper)\n\u001b[0;32m---> 12\u001b[0m attributions, delta \u001b[38;5;241m=\u001b[39m \u001b[43mig\u001b[49m\u001b[38;5;241;43m.\u001b[39;49m\u001b[43mattribute\u001b[49m\u001b[43m(\u001b[49m\u001b[43minput_\u001b[49m\u001b[43m,\u001b[49m\n\u001b[1;32m     13\u001b[0m \u001b[43m                                \u001b[49m\u001b[43mtarget\u001b[49m\u001b[38;5;241;43m=\u001b[39;49m\u001b[43mpred_class\u001b[49m\u001b[43m,\u001b[49m\n\u001b[1;32m     14\u001b[0m \u001b[43m                                \u001b[49m\u001b[43mreturn_convergence_delta\u001b[49m\u001b[38;5;241;43m=\u001b[39;49m\u001b[38;5;28;43;01mTrue\u001b[39;49;00m\u001b[43m)\u001b[49m\n\u001b[1;32m     15\u001b[0m \u001b[38;5;28mprint\u001b[39m(\u001b[38;5;124m'\u001b[39m\u001b[38;5;124mIntegrated Gradients Convergence Delta:\u001b[39m\u001b[38;5;124m'\u001b[39m, delta)\n\u001b[1;32m     16\u001b[0m \u001b[38;5;28mprint\u001b[39m(attributions)\n",
      "File \u001b[0;32m~/.venv/captum-vas/lib/python3.8/site-packages/captum/log/__init__.py:35\u001b[0m, in \u001b[0;36mlog_usage.<locals>._log_usage.<locals>.wrapper\u001b[0;34m(*args, **kwargs)\u001b[0m\n\u001b[1;32m     33\u001b[0m \u001b[38;5;129m@wraps\u001b[39m(func)\n\u001b[1;32m     34\u001b[0m \u001b[38;5;28;01mdef\u001b[39;00m \u001b[38;5;21mwrapper\u001b[39m(\u001b[38;5;241m*\u001b[39margs, \u001b[38;5;241m*\u001b[39m\u001b[38;5;241m*\u001b[39mkwargs):\n\u001b[0;32m---> 35\u001b[0m     \u001b[38;5;28;01mreturn\u001b[39;00m \u001b[43mfunc\u001b[49m\u001b[43m(\u001b[49m\u001b[38;5;241;43m*\u001b[39;49m\u001b[43margs\u001b[49m\u001b[43m,\u001b[49m\u001b[43m \u001b[49m\u001b[38;5;241;43m*\u001b[39;49m\u001b[38;5;241;43m*\u001b[39;49m\u001b[43mkwargs\u001b[49m\u001b[43m)\u001b[49m\n",
      "File \u001b[0;32m~/.venv/captum-vas/lib/python3.8/site-packages/captum/attr/_core/integrated_gradients.py:285\u001b[0m, in \u001b[0;36mIntegratedGradients.attribute\u001b[0;34m(self, inputs, baselines, target, additional_forward_args, n_steps, method, internal_batch_size, return_convergence_delta)\u001b[0m\n\u001b[1;32m    273\u001b[0m     attributions \u001b[38;5;241m=\u001b[39m _batch_attribution(\n\u001b[1;32m    274\u001b[0m         \u001b[38;5;28mself\u001b[39m,\n\u001b[1;32m    275\u001b[0m         num_examples,\n\u001b[0;32m   (...)\u001b[0m\n\u001b[1;32m    282\u001b[0m         method\u001b[38;5;241m=\u001b[39mmethod,\n\u001b[1;32m    283\u001b[0m     )\n\u001b[1;32m    284\u001b[0m \u001b[38;5;28;01melse\u001b[39;00m:\n\u001b[0;32m--> 285\u001b[0m     attributions \u001b[38;5;241m=\u001b[39m \u001b[38;5;28;43mself\u001b[39;49m\u001b[38;5;241;43m.\u001b[39;49m\u001b[43m_attribute\u001b[49m\u001b[43m(\u001b[49m\n\u001b[1;32m    286\u001b[0m \u001b[43m        \u001b[49m\u001b[43minputs\u001b[49m\u001b[38;5;241;43m=\u001b[39;49m\u001b[43minputs\u001b[49m\u001b[43m,\u001b[49m\n\u001b[1;32m    287\u001b[0m \u001b[43m        \u001b[49m\u001b[43mbaselines\u001b[49m\u001b[38;5;241;43m=\u001b[39;49m\u001b[43mbaselines\u001b[49m\u001b[43m,\u001b[49m\n\u001b[1;32m    288\u001b[0m \u001b[43m        \u001b[49m\u001b[43mtarget\u001b[49m\u001b[38;5;241;43m=\u001b[39;49m\u001b[43mtarget\u001b[49m\u001b[43m,\u001b[49m\n\u001b[1;32m    289\u001b[0m \u001b[43m        \u001b[49m\u001b[43madditional_forward_args\u001b[49m\u001b[38;5;241;43m=\u001b[39;49m\u001b[43madditional_forward_args\u001b[49m\u001b[43m,\u001b[49m\n\u001b[1;32m    290\u001b[0m \u001b[43m        \u001b[49m\u001b[43mn_steps\u001b[49m\u001b[38;5;241;43m=\u001b[39;49m\u001b[43mn_steps\u001b[49m\u001b[43m,\u001b[49m\n\u001b[1;32m    291\u001b[0m \u001b[43m        \u001b[49m\u001b[43mmethod\u001b[49m\u001b[38;5;241;43m=\u001b[39;49m\u001b[43mmethod\u001b[49m\u001b[43m,\u001b[49m\n\u001b[1;32m    292\u001b[0m \u001b[43m    \u001b[49m\u001b[43m)\u001b[49m\n\u001b[1;32m    294\u001b[0m \u001b[38;5;28;01mif\u001b[39;00m return_convergence_delta:\n\u001b[1;32m    295\u001b[0m     start_point, end_point \u001b[38;5;241m=\u001b[39m baselines, inputs\n",
      "File \u001b[0;32m~/.venv/captum-vas/lib/python3.8/site-packages/captum/attr/_core/integrated_gradients.py:327\u001b[0m, in \u001b[0;36mIntegratedGradients._attribute\u001b[0;34m(self, inputs, baselines, target, additional_forward_args, n_steps, method, step_sizes_and_alphas)\u001b[0m\n\u001b[1;32m    323\u001b[0m     step_sizes, alphas \u001b[38;5;241m=\u001b[39m step_sizes_and_alphas\n\u001b[1;32m    325\u001b[0m \u001b[38;5;66;03m# scale features and compute gradients. (batch size is abbreviated as bsz)\u001b[39;00m\n\u001b[1;32m    326\u001b[0m \u001b[38;5;66;03m# scaled_features' dim -> (bsz * #steps x inputs[0].shape[1:], ...)\u001b[39;00m\n\u001b[0;32m--> 327\u001b[0m scaled_features_tpl \u001b[38;5;241m=\u001b[39m \u001b[38;5;28;43mtuple\u001b[39;49m\u001b[43m(\u001b[49m\n\u001b[1;32m    328\u001b[0m \u001b[43m    \u001b[49m\u001b[43mtorch\u001b[49m\u001b[38;5;241;43m.\u001b[39;49m\u001b[43mcat\u001b[49m\u001b[43m(\u001b[49m\n\u001b[1;32m    329\u001b[0m \u001b[43m        \u001b[49m\u001b[43m[\u001b[49m\u001b[43mbaseline\u001b[49m\u001b[43m \u001b[49m\u001b[38;5;241;43m+\u001b[39;49m\u001b[43m \u001b[49m\u001b[43malpha\u001b[49m\u001b[43m \u001b[49m\u001b[38;5;241;43m*\u001b[39;49m\u001b[43m \u001b[49m\u001b[43m(\u001b[49m\u001b[38;5;28;43minput\u001b[39;49m\u001b[43m \u001b[49m\u001b[38;5;241;43m-\u001b[39;49m\u001b[43m \u001b[49m\u001b[43mbaseline\u001b[49m\u001b[43m)\u001b[49m\u001b[43m \u001b[49m\u001b[38;5;28;43;01mfor\u001b[39;49;00m\u001b[43m \u001b[49m\u001b[43malpha\u001b[49m\u001b[43m \u001b[49m\u001b[38;5;129;43;01min\u001b[39;49;00m\u001b[43m \u001b[49m\u001b[43malphas\u001b[49m\u001b[43m]\u001b[49m\u001b[43m,\u001b[49m\u001b[43m \u001b[49m\u001b[43mdim\u001b[49m\u001b[38;5;241;43m=\u001b[39;49m\u001b[38;5;241;43m0\u001b[39;49m\n\u001b[1;32m    330\u001b[0m \u001b[43m    \u001b[49m\u001b[43m)\u001b[49m\u001b[38;5;241;43m.\u001b[39;49m\u001b[43mrequires_grad_\u001b[49m\u001b[43m(\u001b[49m\u001b[43m)\u001b[49m\n\u001b[1;32m    331\u001b[0m \u001b[43m    \u001b[49m\u001b[38;5;28;43;01mfor\u001b[39;49;00m\u001b[43m \u001b[49m\u001b[38;5;28;43minput\u001b[39;49m\u001b[43m,\u001b[49m\u001b[43m \u001b[49m\u001b[43mbaseline\u001b[49m\u001b[43m \u001b[49m\u001b[38;5;129;43;01min\u001b[39;49;00m\u001b[43m \u001b[49m\u001b[38;5;28;43mzip\u001b[39;49m\u001b[43m(\u001b[49m\u001b[43minputs\u001b[49m\u001b[43m,\u001b[49m\u001b[43m \u001b[49m\u001b[43mbaselines\u001b[49m\u001b[43m)\u001b[49m\n\u001b[1;32m    332\u001b[0m \u001b[43m\u001b[49m\u001b[43m)\u001b[49m\n\u001b[1;32m    334\u001b[0m additional_forward_args \u001b[38;5;241m=\u001b[39m _format_additional_forward_args(\n\u001b[1;32m    335\u001b[0m     additional_forward_args\n\u001b[1;32m    336\u001b[0m )\n\u001b[1;32m    337\u001b[0m \u001b[38;5;66;03m# apply number of steps to additional forward args\u001b[39;00m\n\u001b[1;32m    338\u001b[0m \u001b[38;5;66;03m# currently, number of steps is applied only to additional forward arguments\u001b[39;00m\n\u001b[1;32m    339\u001b[0m \u001b[38;5;66;03m# that are nd-tensors. It is assumed that the first dimension is\u001b[39;00m\n\u001b[1;32m    340\u001b[0m \u001b[38;5;66;03m# the number of batches.\u001b[39;00m\n\u001b[1;32m    341\u001b[0m \u001b[38;5;66;03m# dim -> (bsz * #steps x additional_forward_args[0].shape[1:], ...)\u001b[39;00m\n",
      "File \u001b[0;32m~/.venv/captum-vas/lib/python3.8/site-packages/captum/attr/_core/integrated_gradients.py:328\u001b[0m, in \u001b[0;36m<genexpr>\u001b[0;34m(.0)\u001b[0m\n\u001b[1;32m    323\u001b[0m     step_sizes, alphas \u001b[38;5;241m=\u001b[39m step_sizes_and_alphas\n\u001b[1;32m    325\u001b[0m \u001b[38;5;66;03m# scale features and compute gradients. (batch size is abbreviated as bsz)\u001b[39;00m\n\u001b[1;32m    326\u001b[0m \u001b[38;5;66;03m# scaled_features' dim -> (bsz * #steps x inputs[0].shape[1:], ...)\u001b[39;00m\n\u001b[1;32m    327\u001b[0m scaled_features_tpl \u001b[38;5;241m=\u001b[39m \u001b[38;5;28mtuple\u001b[39m(\n\u001b[0;32m--> 328\u001b[0m     \u001b[43mtorch\u001b[49m\u001b[38;5;241;43m.\u001b[39;49m\u001b[43mcat\u001b[49m\u001b[43m(\u001b[49m\n\u001b[1;32m    329\u001b[0m \u001b[43m        \u001b[49m\u001b[43m[\u001b[49m\u001b[43mbaseline\u001b[49m\u001b[43m \u001b[49m\u001b[38;5;241;43m+\u001b[39;49m\u001b[43m \u001b[49m\u001b[43malpha\u001b[49m\u001b[43m \u001b[49m\u001b[38;5;241;43m*\u001b[39;49m\u001b[43m \u001b[49m\u001b[43m(\u001b[49m\u001b[38;5;28;43minput\u001b[39;49m\u001b[43m \u001b[49m\u001b[38;5;241;43m-\u001b[39;49m\u001b[43m \u001b[49m\u001b[43mbaseline\u001b[49m\u001b[43m)\u001b[49m\u001b[43m \u001b[49m\u001b[38;5;28;43;01mfor\u001b[39;49;00m\u001b[43m \u001b[49m\u001b[43malpha\u001b[49m\u001b[43m \u001b[49m\u001b[38;5;129;43;01min\u001b[39;49;00m\u001b[43m \u001b[49m\u001b[43malphas\u001b[49m\u001b[43m]\u001b[49m\u001b[43m,\u001b[49m\u001b[43m \u001b[49m\u001b[43mdim\u001b[49m\u001b[38;5;241;43m=\u001b[39;49m\u001b[38;5;241;43m0\u001b[39;49m\n\u001b[1;32m    330\u001b[0m \u001b[43m    \u001b[49m\u001b[43m)\u001b[49m\u001b[38;5;241m.\u001b[39mrequires_grad_()\n\u001b[1;32m    331\u001b[0m     \u001b[38;5;28;01mfor\u001b[39;00m \u001b[38;5;28minput\u001b[39m, baseline \u001b[38;5;129;01min\u001b[39;00m \u001b[38;5;28mzip\u001b[39m(inputs, baselines)\n\u001b[1;32m    332\u001b[0m )\n\u001b[1;32m    334\u001b[0m additional_forward_args \u001b[38;5;241m=\u001b[39m _format_additional_forward_args(\n\u001b[1;32m    335\u001b[0m     additional_forward_args\n\u001b[1;32m    336\u001b[0m )\n\u001b[1;32m    337\u001b[0m \u001b[38;5;66;03m# apply number of steps to additional forward args\u001b[39;00m\n\u001b[1;32m    338\u001b[0m \u001b[38;5;66;03m# currently, number of steps is applied only to additional forward arguments\u001b[39;00m\n\u001b[1;32m    339\u001b[0m \u001b[38;5;66;03m# that are nd-tensors. It is assumed that the first dimension is\u001b[39;00m\n\u001b[1;32m    340\u001b[0m \u001b[38;5;66;03m# the number of batches.\u001b[39;00m\n\u001b[1;32m    341\u001b[0m \u001b[38;5;66;03m# dim -> (bsz * #steps x additional_forward_args[0].shape[1:], ...)\u001b[39;00m\n",
      "\u001b[0;31mRuntimeError\u001b[0m: CUDA out of memory. Tried to allocate 96.00 MiB (GPU 0; 4.00 GiB total capacity; 2.62 GiB already allocated; 0 bytes free; 2.83 GiB reserved in total by PyTorch)"
     ]
    }
   ],
   "source": [
    "from captum.attr import (Deconvolution, DeepLift, DeepLiftShap,\n",
    "                         FeatureAblation, GradientShap, GuidedBackprop,\n",
    "                         GuidedGradCam, InputXGradient, IntegratedGradients,\n",
    "                         Occlusion, Saliency)\n",
    "\n",
    "pred_class = 7\n",
    "img = cv2.imread(image_path)\n",
    "input_   = torch.from_numpy(img).permute(2,0,1).unsqueeze(0).to(device).type(torch.cuda.FloatTensor)\n",
    "\n",
    "# Integrated Gradients\n",
    "ig = IntegratedGradients(wrapper)\n",
    "attributions, delta = ig.attribute(input_,\n",
    "                                target=pred_class,\n",
    "                                return_convergence_delta=True)\n",
    "print('Integrated Gradients Convergence Delta:', delta)\n",
    "print(attributions)"
   ]
  },
  {
   "cell_type": "code",
   "execution_count": null,
   "id": "c39e0d31",
   "metadata": {},
   "outputs": [],
   "source": []
  }
 ],
 "metadata": {
  "kernelspec": {
   "display_name": "captum-vas",
   "language": "python",
   "name": "captum-vas"
  },
  "language_info": {
   "codemirror_mode": {
    "name": "ipython",
    "version": 3
   },
   "file_extension": ".py",
   "mimetype": "text/x-python",
   "name": "python",
   "nbconvert_exporter": "python",
   "pygments_lexer": "ipython3",
   "version": "3.8.10"
  }
 },
 "nbformat": 4,
 "nbformat_minor": 5
}

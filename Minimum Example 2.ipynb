{
 "cells": [
  {
   "cell_type": "code",
   "execution_count": 1,
   "id": "967d938d",
   "metadata": {},
   "outputs": [],
   "source": [
    "import os\n",
    "import cv2\n",
    "import torch\n",
    "from nanodet.util import cfg, load_config, Logger\n",
    "\n",
    "os.environ[\"CUDA_DEVICE_ORDER\"]=\"PCI_BUS_ID\"\n",
    "os.environ[\"CUDA_VISIBLE_DEVICES\"]=\"0\"\n",
    "\n",
    "device = torch.device('cuda')\n",
    "\n",
    "torch.backends.cudnn.enabled = True\n",
    "torch.backends.cudnn.benchmark = True"
   ]
  },
  {
   "cell_type": "code",
   "execution_count": 2,
   "id": "052742c2",
   "metadata": {},
   "outputs": [],
   "source": [
    "config_path = 'demo/nanodet-plus-m_416.yml'\n",
    "model_path = 'demo/nanodet-plus-m_416_checkpoint.ckpt'\n",
    "image_path = 'demo/000252.jpg'\n",
    "\n",
    "load_config(cfg, config_path)\n",
    "logger = Logger(-1, use_tensorboard=False)"
   ]
  },
  {
   "cell_type": "code",
   "execution_count": 63,
   "id": "ad2c7028",
   "metadata": {
    "scrolled": true
   },
   "outputs": [
    {
     "name": "stdout",
     "output_type": "stream",
     "text": [
      "model size is  1.0x\n",
      "init weights...\n",
      "=> loading pretrained model https://download.pytorch.org/models/shufflenetv2_x1-5666bf0f80.pth\n",
      "Finish initialize NanoDet-Plus Head.\n"
     ]
    }
   ],
   "source": [
    "from nanodet.model.arch import build_model\n",
    "from nanodet.util import Logger, cfg, load_config, load_model_weight\n",
    "from nanodet.data.transform import Pipeline\n",
    "from nanodet.data.collate import naive_collate\n",
    "from nanodet.data.batch_process import stack_batch_img\n",
    "import numpy as np\n",
    "\n",
    "class WrapperModel(torch.nn.Module):\n",
    "    def __init__(self, cfg, model_path, logger, device=\"cuda:0\"):\n",
    "        super().__init__()\n",
    "\n",
    "        self.cfg = cfg\n",
    "        self.device = device\n",
    "        \n",
    "        self.num_classes = cfg['model']['arch']['head']['num_classes']\n",
    "        self.reg_max = cfg['model']['arch']['head']['reg_max']\n",
    "        model = build_model(cfg.model)\n",
    "        ckpt = torch.load(model_path, map_location=lambda storage, loc: storage)\n",
    "        load_model_weight(model, ckpt, logger)\n",
    "        self.model = model.to(device).eval()\n",
    "\n",
    "    def forward(self, tensor_img):\n",
    "        if len(tensor_img.shape) == 4:\n",
    "\n",
    "            preds = self.model(tensor_img)\n",
    "            cls_scores = preds.split(\n",
    "                [self.num_classes, 4 * (self.reg_max + 1)], dim=-1\n",
    "            )[0]\n",
    "            \n",
    "            max_cls_scores = torch.max(cls_scores.sigmoid(), dim=1)[0]\n",
    "            return max_cls_scores\n",
    "    \n",
    "wrapper = WrapperModel(cfg, model_path, logger, device=device)"
   ]
  },
  {
   "cell_type": "code",
   "execution_count": 64,
   "id": "d5e421bf",
   "metadata": {},
   "outputs": [
    {
     "name": "stdout",
     "output_type": "stream",
     "text": [
      "torch.Size([2, 3, 416, 416])\n"
     ]
    }
   ],
   "source": [
    "img = cv2.imread(image_path)\n",
    "\n",
    "raw_height = img.shape[0]\n",
    "raw_width  = img.shape[1]\n",
    "dst_width, dst_height = cfg.data.val.input_size\n",
    "ResizeM = np.eye(3)\n",
    "ResizeM[0, 0] *= dst_width / raw_width\n",
    "ResizeM[1, 1] *= dst_height / raw_height\n",
    "\n",
    "# scaling only\n",
    "numpy_img_warped = cv2.warpPerspective(img, \n",
    "                                       ResizeM, \n",
    "                                       dsize=tuple(cfg.data.val.input_size), \n",
    "                                       flags = cv2.INTER_LINEAR, \n",
    "                                       borderMode = cv2.BORDER_CONSTANT)\n",
    "\n",
    "# normalise\n",
    "mean, std = cfg.data.val.pipeline[\"normalize\"]\n",
    "mean = np.array(mean, dtype=np.float32).reshape(1, 1, 3) / 255\n",
    "std = np.array(std, dtype=np.float32).reshape(1, 1, 3) / 255\n",
    "numpy_img_normalised = ((numpy_img_warped.astype(np.float32) / 255) - mean) / std\n",
    "\n",
    "# numpy to pytorch\n",
    "processed_tensor_img = torch.from_numpy(numpy_img_normalised.transpose(2, 0, 1)).to(device).type(torch.cuda.FloatTensor).unsqueeze(0)\n",
    "\n",
    "input_   = torch.cat([processed_tensor_img, processed_tensor_img])\n",
    "print(input_.shape)"
   ]
  },
  {
   "cell_type": "code",
   "execution_count": 65,
   "id": "305c4cd1",
   "metadata": {
    "scrolled": false
   },
   "outputs": [
    {
     "name": "stdout",
     "output_type": "stream",
     "text": [
      "tensor([[0.4031, 0.0590, 0.7855, 0.0744, 0.0292, 0.7465, 0.0498, 0.3727, 0.0260,\n",
      "         0.0943, 0.2330, 0.1062, 0.2621, 0.0441, 0.0302, 0.0232, 0.0320, 0.0454,\n",
      "         0.0223, 0.0523, 0.0479, 0.0418, 0.0431, 0.0442, 0.0516, 0.0352, 0.0348,\n",
      "         0.0636, 0.0350, 0.0171, 0.0305, 0.0225, 0.0283, 0.0150, 0.0212, 0.0356,\n",
      "         0.0443, 0.0226, 0.0155, 0.0431, 0.0160, 0.0516, 0.0117, 0.0104, 0.0083,\n",
      "         0.0283, 0.0117, 0.0190, 0.0060, 0.0265, 0.0149, 0.0173, 0.0193, 0.0161,\n",
      "         0.0356, 0.0109, 0.0392, 0.0160, 0.0428, 0.0110, 0.0185, 0.0418, 0.0538,\n",
      "         0.0093, 0.0139, 0.0153, 0.0118, 0.0998, 0.0118, 0.0181, 0.0206, 0.0108,\n",
      "         0.0317, 0.0343, 0.0434, 0.0231, 0.0122, 0.0259, 0.0127, 0.0100],\n",
      "        [0.4031, 0.0590, 0.7855, 0.0744, 0.0292, 0.7465, 0.0498, 0.3727, 0.0260,\n",
      "         0.0943, 0.2330, 0.1062, 0.2621, 0.0441, 0.0302, 0.0232, 0.0320, 0.0454,\n",
      "         0.0223, 0.0523, 0.0479, 0.0418, 0.0431, 0.0442, 0.0516, 0.0352, 0.0348,\n",
      "         0.0636, 0.0350, 0.0171, 0.0305, 0.0225, 0.0283, 0.0150, 0.0212, 0.0356,\n",
      "         0.0443, 0.0226, 0.0155, 0.0431, 0.0160, 0.0516, 0.0117, 0.0104, 0.0083,\n",
      "         0.0283, 0.0117, 0.0190, 0.0060, 0.0265, 0.0149, 0.0173, 0.0193, 0.0161,\n",
      "         0.0356, 0.0109, 0.0392, 0.0160, 0.0428, 0.0110, 0.0185, 0.0418, 0.0538,\n",
      "         0.0093, 0.0139, 0.0153, 0.0118, 0.0998, 0.0118, 0.0181, 0.0206, 0.0108,\n",
      "         0.0317, 0.0343, 0.0434, 0.0231, 0.0122, 0.0259, 0.0127, 0.0100]],\n",
      "       device='cuda:0', grad_fn=<MaxBackward0>)\n"
     ]
    }
   ],
   "source": [
    "print(wrapper(input_))"
   ]
  },
  {
   "cell_type": "code",
   "execution_count": 66,
   "id": "385cf4c8",
   "metadata": {},
   "outputs": [],
   "source": [
    "# tensor([[0.4031, 0.0590, 0.7855, 0.0744, 0.0292, 0.7465, 0.0498, 0.3727, 0.0260,\n",
    "#          0.0943, 0.2330, 0.1062, 0.2621, 0.0441, 0.0302, 0.0232, 0.0320, 0.0454,\n",
    "#          0.0223, 0.0523, 0.0479, 0.0418, 0.0431, 0.0442, 0.0516, 0.0352, 0.0348,\n",
    "#          0.0636, 0.0350, 0.0171, 0.0305, 0.0225, 0.0283, 0.0150, 0.0212, 0.0356,\n",
    "#          0.0443, 0.0226, 0.0155, 0.0431, 0.0160, 0.0516, 0.0117, 0.0104, 0.0083,\n",
    "#          0.0283, 0.0117, 0.0190, 0.0060, 0.0265, 0.0149, 0.0173, 0.0193, 0.0161,\n",
    "#          0.0356, 0.0109, 0.0392, 0.0160, 0.0428, 0.0110, 0.0185, 0.0418, 0.0538,\n",
    "#          0.0093, 0.0139, 0.0153, 0.0118, 0.0998, 0.0118, 0.0181, 0.0206, 0.0108,\n",
    "#          0.0317, 0.0343, 0.0434, 0.0231, 0.0122, 0.0259, 0.0127, 0.0100]],\n",
    "#        device='cuda:0', grad_fn=<StackBackward>)"
   ]
  },
  {
   "cell_type": "code",
   "execution_count": null,
   "id": "dfce632e",
   "metadata": {},
   "outputs": [],
   "source": []
  },
  {
   "cell_type": "code",
   "execution_count": null,
   "id": "44407e37",
   "metadata": {},
   "outputs": [],
   "source": []
  },
  {
   "cell_type": "code",
   "execution_count": null,
   "id": "b5d23d52",
   "metadata": {},
   "outputs": [],
   "source": []
  },
  {
   "cell_type": "code",
   "execution_count": null,
   "id": "c3bea803",
   "metadata": {},
   "outputs": [],
   "source": []
  },
  {
   "cell_type": "markdown",
   "id": "0f213448",
   "metadata": {},
   "source": [
    "## Captum"
   ]
  },
  {
   "cell_type": "code",
   "execution_count": 8,
   "id": "a3d87669",
   "metadata": {
    "scrolled": false
   },
   "outputs": [],
   "source": [
    "# from captum.attr import (Deconvolution, DeepLift, DeepLiftShap,\n",
    "#                          FeatureAblation, GradientShap, GuidedBackprop,\n",
    "#                          GuidedGradCam, InputXGradient, IntegratedGradients,\n",
    "#                          Occlusion, Saliency)\n",
    "\n",
    "# pred_class = 7\n",
    "# img = cv2.imread(image_path)\n",
    "# input_   = torch.from_numpy(img).permute(2,0,1).unsqueeze(0).to(device).type(torch.cuda.FloatTensor)\n",
    "\n",
    "# # Integrated Gradients\n",
    "# ig = IntegratedGradients(wrapper)\n",
    "# attributions, delta = ig.attribute(input_,\n",
    "#                                 target=pred_class,\n",
    "#                                 return_convergence_delta=True)\n",
    "# print('Integrated Gradients Convergence Delta:', delta)\n",
    "# print(attributions)"
   ]
  },
  {
   "cell_type": "code",
   "execution_count": null,
   "id": "c39e0d31",
   "metadata": {},
   "outputs": [],
   "source": []
  }
 ],
 "metadata": {
  "kernelspec": {
   "display_name": "captum-vas",
   "language": "python",
   "name": "captum-vas"
  },
  "language_info": {
   "codemirror_mode": {
    "name": "ipython",
    "version": 3
   },
   "file_extension": ".py",
   "mimetype": "text/x-python",
   "name": "python",
   "nbconvert_exporter": "python",
   "pygments_lexer": "ipython3",
   "version": "3.8.10"
  }
 },
 "nbformat": 4,
 "nbformat_minor": 5
}
